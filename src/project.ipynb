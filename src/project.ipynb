{
 "cells": [
  {
   "cell_type": "code",
   "execution_count": 7,
   "metadata": {
    "collapsed": true
   },
   "outputs": [
    {
     "data": {
      "text/plain": "Empty DataFrame\nColumns: []\nIndex: []",
      "text/html": "<div>\n<style scoped>\n    .dataframe tbody tr th:only-of-type {\n        vertical-align: middle;\n    }\n\n    .dataframe tbody tr th {\n        vertical-align: top;\n    }\n\n    .dataframe thead th {\n        text-align: right;\n    }\n</style>\n<table border=\"1\" class=\"dataframe\">\n  <thead>\n    <tr style=\"text-align: right;\">\n      <th></th>\n    </tr>\n  </thead>\n  <tbody>\n  </tbody>\n</table>\n</div>"
     },
     "execution_count": 7,
     "metadata": {},
     "output_type": "execute_result"
    }
   ],
   "source": [
    "import json\n",
    "import geonamescache\n",
    "import pandas as pd\n",
    "import numpy as np\n",
    "import re\n",
    "import unidecode as unidecode\n",
    "\n",
    "\n",
    "def get_headlines(source):\n",
    "    with open(source) as handle:\n",
    "        for line in handle:\n",
    "            yield unidecode.unidecode(line.strip('\\n'))\n",
    "\n",
    "\n",
    "def find_match(text, regex):\n",
    "    found = re.search(regex, text)\n",
    "    if found:\n",
    "        return found.group(0)\n",
    "    return None\n",
    "\n",
    "\n",
    "def get_city_name(headline, regex):\n",
    "    return find_match(headline, regex)\n",
    "\n",
    "\n",
    "def get_country_name(headline, regex):\n",
    "    return find_match(headline, regex)\n",
    "\n",
    "gc = geonamescache.GeonamesCache()\n",
    "countries = [country[\"name\"] for country in gc.get_countries().values()]\n",
    "cities = [city[\"name\"] for city in gc.get_cities().values()]\n",
    "\n",
    "coutries_accent_map = {\n",
    "    unidecode.unidecode(country): country for country in countries\n",
    "}\n",
    "\n",
    "cities_accent_map = {\n",
    "    unidecode.unidecode(city): city for city in cities\n",
    "}\n",
    "\n",
    "unaccented_countries = set(coutries_accent_map.keys())\n",
    "unaccented_cities = list(cities_accent_map.keys())\n",
    "\n",
    "unaccented_countries = sorted(unaccented_countries, key=lambda x: len(x), reverse=True)\n",
    "unaccented_cities = sorted(unaccented_cities, key=lambda x: len(x), reverse=True)\n",
    "\n",
    "city_regex = r'\\b|\\b'.join(unaccented_cities)\n",
    "country_regex = r'\\b|\\b'.join(unaccented_countries)\n",
    "\n",
    "headlines = get_headlines('../data/headlines.txt')\n",
    "headlines_cities_countries = [\n",
    "    dict(headline=headline,\n",
    "         countries=get_country_name(headline, country_regex),\n",
    "         cities=get_city_name(headline, city_regex)) for headline in headlines]\n",
    "\n",
    "with open('../data/headlines_cities_countries.json', 'w') as fout:\n",
    "    fout.write(json.dumps(headlines_cities_countries))\n",
    "\n",
    "with open('../data/unaccented_countries.json', 'w') as fout:\n",
    "    fout.write(json.dumps(unaccented_countries))\n",
    "\n",
    "with open('../data/unaccented_cities.json', 'w') as fout:\n",
    "    fout.write(json.dumps(unaccented_cities))\n",
    "\n",
    "data = pd.read_json('../data/headlines_cities_countries.json')\n",
    "data = data.replace({None: np.nan})\n",
    "data.head()"
   ]
  },
  {
   "cell_type": "code",
   "execution_count": null,
   "outputs": [],
   "source": [
    "\n"
   ],
   "metadata": {
    "collapsed": false,
    "pycharm": {
     "name": "#%%\n"
    }
   }
  }
 ],
 "metadata": {
  "kernelspec": {
   "name": "pycharm-50dd7e96",
   "language": "python",
   "display_name": "PyCharm (disease-outbreak)"
  },
  "language_info": {
   "codemirror_mode": {
    "name": "ipython",
    "version": 2
   },
   "file_extension": ".py",
   "mimetype": "text/x-python",
   "name": "python",
   "nbconvert_exporter": "python",
   "pygments_lexer": "ipython2",
   "version": "2.7.6"
  }
 },
 "nbformat": 4,
 "nbformat_minor": 0
}