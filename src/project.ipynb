{
 "cells": [
  {
   "cell_type": "code",
   "execution_count": 2,
   "metadata": {
    "collapsed": true
   },
   "outputs": [
    {
     "ename": "ModuleNotFoundError",
     "evalue": "No module named 'pandas'",
     "output_type": "error",
     "traceback": [
      "\u001B[0;31m---------------------------------------------------------------------------\u001B[0m",
      "\u001B[0;31mModuleNotFoundError\u001B[0m                       Traceback (most recent call last)",
      "\u001B[0;32m<ipython-input-2-68753f32e55f>\u001B[0m in \u001B[0;36m<module>\u001B[0;34m\u001B[0m\n\u001B[0;32m----> 1\u001B[0;31m \u001B[0;32mimport\u001B[0m \u001B[0mpandas\u001B[0m \u001B[0;32mas\u001B[0m \u001B[0mpd\u001B[0m\u001B[0;34m\u001B[0m\u001B[0;34m\u001B[0m\u001B[0m\n\u001B[0m\u001B[1;32m      2\u001B[0m \u001B[0;32mimport\u001B[0m \u001B[0mre\u001B[0m\u001B[0;34m\u001B[0m\u001B[0;34m\u001B[0m\u001B[0m\n\u001B[1;32m      3\u001B[0m \u001B[0;34m\u001B[0m\u001B[0m\n\u001B[1;32m      4\u001B[0m \u001B[0;34m\u001B[0m\u001B[0m\n\u001B[1;32m      5\u001B[0m \u001B[0;32mdef\u001B[0m \u001B[0mget_country\u001B[0m\u001B[0;34m(\u001B[0m\u001B[0mheadline\u001B[0m\u001B[0;34m)\u001B[0m\u001B[0;34m:\u001B[0m\u001B[0;34m\u001B[0m\u001B[0;34m\u001B[0m\u001B[0m\n",
      "\u001B[0;31mModuleNotFoundError\u001B[0m: No module named 'pandas'"
     ]
    }
   ],
   "source": [
    "import pandas as pd\n",
    "import re\n",
    "\n",
    "\n",
    "def get_country(headline):\n",
    "    return '-'\n",
    "\n",
    "\n",
    "city_regex = re.compile('[mM]iami [bB]each|[mM]iami')\n",
    "def get_city(headline):\n",
    "    city_found = city_regex.search(headline)\n",
    "    if city_found:\n",
    "        start, end = city_found.span()\n",
    "        return city_found.group(0)\n",
    "    return '-'\n",
    "\n",
    "\n",
    "def get_headlines_df(headlines):\n",
    "    columns = ['headline', 'country', 'city']\n",
    "    headlines_df = pd.DataFrame([\n",
    "        [headline,\n",
    "         get_country(headline),\n",
    "         get_city(headline)] for headline in headlines\n",
    "    ])\n",
    "    return headlines_df\n",
    "\n",
    "\n",
    "def read_headlines(source):\n",
    "    with open(source) as handle:\n",
    "        for line in handle:\n",
    "            yield line.strip('\\n')\n",
    "\n",
    "\n",
    "df = get_headlines_df(read_headlines('../data/headlines.txt'))\n",
    "\n"
   ]
  }
 ],
 "metadata": {
  "kernelspec": {
   "display_name": "Python 3",
   "language": "python",
   "name": "python3"
  },
  "language_info": {
   "codemirror_mode": {
    "name": "ipython",
    "version": 2
   },
   "file_extension": ".py",
   "mimetype": "text/x-python",
   "name": "python",
   "nbconvert_exporter": "python",
   "pygments_lexer": "ipython2",
   "version": "2.7.6"
  }
 },
 "nbformat": 4,
 "nbformat_minor": 0
}