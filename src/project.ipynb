{
 "cells": [
  {
   "cell_type": "code",
   "execution_count": 1,
   "metadata": {
    "collapsed": true
   },
   "outputs": [],
   "source": [
    "import pandas as pd\n",
    "import re\n",
    "\n",
    "\n",
    "def get_country(headline):\n",
    "    return '-'\n",
    "\n",
    "\n",
    "city_regex = re.compile('[mM]iami [bB]each|[mM]iami')\n",
    "def get_city(headline):\n",
    "    city_found = city_regex.search(headline)\n",
    "    if city_found:\n",
    "        start, end = city_found.span()\n",
    "        return city_found.group(0)\n",
    "    return '-'\n",
    "\n",
    "\n",
    "def get_headlines_df(headlines):\n",
    "    columns = ['headline', 'country', 'city']\n",
    "    headlines_df = pd.DataFrame([\n",
    "        [headline,\n",
    "         get_country(headline),\n",
    "         get_city(headline)] for headline in headlines\n",
    "    ])\n",
    "    return headlines_df\n",
    "\n",
    "\n",
    "def read_headlines(source):\n",
    "    with open(source) as handle:\n",
    "        for line in handle:\n",
    "            yield line.strip('\\n')\n",
    "\n",
    "\n",
    "df = get_headlines_df(read_headlines('../data/headlines.txt'))\n",
    "\n"
   ]
  }
 ],
 "metadata": {
  "kernelspec": {
   "name": "pycharm-50dd7e96",
   "language": "python",
   "display_name": "PyCharm (disease-outbreak)"
  },
  "language_info": {
   "codemirror_mode": {
    "name": "ipython",
    "version": 2
   },
   "file_extension": ".py",
   "mimetype": "text/x-python",
   "name": "python",
   "nbconvert_exporter": "python",
   "pygments_lexer": "ipython2",
   "version": "2.7.6"
  }
 },
 "nbformat": 4,
 "nbformat_minor": 0
}